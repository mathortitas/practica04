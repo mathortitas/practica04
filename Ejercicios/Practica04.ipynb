{
 "cells": [
  {
   "cell_type": "code",
   "execution_count": null,
   "metadata": {},
   "outputs": [],
   "source": [
    "def imprimir_pares(inicio, fin):\n",
    "    for num in range(inicio, fin + 1):\n",
    "        tipo = \"par\" if num % 2 == 0 else \"impar\"\n",
    "        print(f\"{num} es {tipo}\")\n",
    "\n",
    "inicio = int(input(\"Ingrese el número inicial: \"))\n",
    "fin = int(input(\"Ingrese el número final: \"))\n",
    "imprimir_pares(inicio, fin)"
   ]
  },
  {
   "cell_type": "code",
   "execution_count": null,
   "metadata": {},
   "outputs": [
    {
     "ename": "",
     "evalue": "",
     "output_type": "error",
     "traceback": [
      "\u001b[1;31mRunning cells with 'Python 3.11.2' requires the ipykernel package.\n",
      "\u001b[1;31mRun the following command to install 'ipykernel' into the Python environment. \n",
      "\u001b[1;31mCommand: '/bin/python3 -m pip install ipykernel -U --user --force-reinstall'"
     ]
    }
   ],
   "source": [
    "def imprimir_tabla(numero):\n",
    "    for i in range(1, 11):\n",
    "        print(f\"{numero} x {i} = {numero * i}\")\n",
    "\n",
    "numero = int(input(\"Ingrese un número para generar su tabla de multiplicar: \"))\n",
    "imprimir_tabla(numero)\n"
   ]
  },
  {
   "cell_type": "code",
   "execution_count": null,
   "metadata": {},
   "outputs": [],
   "source": [
    "numeros = ['1', '2', '3', '4', '5', '6', '7', '8', '9', '0']\n",
    "simbolos = ['?', '!', '$', '%', '&', '/', 'ª', 'º']\n",
    "\n",
    "def validar_nombre(cadena):\n",
    "    for char in cadena:\n",
    "        if char in numeros or char in simbolos:\n",
    "            return False\n",
    "    return True\n",
    "\n",
    "def solicitar_nombre(tipo):\n",
    "    while True:\n",
    "        cadena = input(f\"Ingrese su {tipo}: \")\n",
    "        if validar_nombre(cadena):\n",
    "            print(f\"{tipo.capitalize()} válido: {cadena}\")\n",
    "            return cadena\n",
    "        else:\n",
    "            print(f\"{tipo.capitalize()} no válido. Inténtelo nuevamente.\")\n",
    "\n",
    "nombre = solicitar_nombre(\"nombre\")\n",
    "apellido = solicitar_nombre(\"apellido\")\n"
   ]
  },
  {
   "cell_type": "code",
   "execution_count": null,
   "metadata": {},
   "outputs": [],
   "source": [
    "positivas = [\"bueno\", \"excelente\", \"bien\"]\n",
    "negativas = [\"malo\", \"pesimo\", \"no\"]\n",
    "\n",
    "def verificar_comentario(comentario):\n",
    "    es_positivo = any(palabra in comentario.lower() for palabra in positivas)\n",
    "    es_negativo = any(palabra in comentario.lower() for palabra in negativas)\n",
    "    if es_positivo:\n",
    "        print(\"Comentario POSITIVO\")\n",
    "    elif es_negativo:\n",
    "        print(\"Comentario NEGATIVO\")\n",
    "    else:\n",
    "        print(\"Comentario NEUTRAL\")\n",
    "\n",
    "comentario = input(\"Ingrese el comentario: \")\n",
    "verificar_comentario(comentario)\n"
   ]
  },
  {
   "cell_type": "code",
   "execution_count": null,
   "metadata": {},
   "outputs": [],
   "source": [
    "import random\n",
    "\n",
    "def generar_listas():\n",
    "    numeros = [random.randint(1, 100) for _ in range(60)]\n",
    "    multiplos_2 = [n for n in numeros if n % 2 == 0]\n",
    "    multiplos_3 = [n for n in numeros if n % 3 == 0]\n",
    "    multiplos_5 = [n for n in numeros if n % 5 == 0]\n",
    "    return multiplos_2, multiplos_3, multiplos_5\n",
    "\n",
    "multiplos_2, multiplos_3, multiplos_5 = generar_listas()\n",
    "print(\"Múltiplos de 2:\", multiplos_2)\n",
    "print(\"Múltiplos de 3:\", multiplos_3)\n",
    "print(\"Múltiplos de 5:\", multiplos_5)\n"
   ]
  },
  {
   "cell_type": "code",
   "execution_count": null,
   "metadata": {},
   "outputs": [],
   "source": [
    "def es_capicua(numero):\n",
    "    return str(numero) == str(numero)[::-1]\n",
    "\n",
    "def verificar_rango_capicua(inicio, fin):\n",
    "    for num in range(inicio, fin + 1):\n",
    "        if es_capicua(num):\n",
    "            print(f\"{num} es capicúa\")\n",
    "        else:\n",
    "            print(f\"{num} no es capicúa\")\n",
    "\n",
    "inicio = int(input(\"Ingrese un número inicial (3 cifras): \"))\n",
    "fin = int(input(\"Ingrese un número final (4 cifras): \"))\n",
    "verificar_rango_capicua(inicio, fin)\n"
   ]
  },
  {
   "cell_type": "code",
   "execution_count": null,
   "metadata": {},
   "outputs": [],
   "source": [
    "def validar_dni(dni):\n",
    "    if len(dni) == 8 and dni.isdigit():\n",
    "        return True\n",
    "    return False\n",
    "\n",
    "def solicitar_dni():\n",
    "    while True:\n",
    "        dni = input(\"Ingrese su DNI (8 dígitos): \")\n",
    "        if validar_dni(dni):\n",
    "            print(\"DNI válido:\", dni)\n",
    "            break\n",
    "        else:\n",
    "            print(\"DNI no válido. Inténtelo nuevamente.\")\n",
    "\n",
    "solicitar_dni()\n"
   ]
  },
  {
   "cell_type": "code",
   "execution_count": null,
   "metadata": {},
   "outputs": [],
   "source": []
  }
 ],
 "metadata": {
  "kernelspec": {
   "display_name": "Python 3",
   "language": "python",
   "name": "python3"
  },
  "language_info": {
   "name": "python",
   "version": "3.11.2"
  }
 },
 "nbformat": 4,
 "nbformat_minor": 2
}
