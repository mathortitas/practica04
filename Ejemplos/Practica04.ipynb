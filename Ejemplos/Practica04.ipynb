{
 "cells": [
  {
   "cell_type": "code",
   "execution_count": null,
   "metadata": {},
   "outputs": [],
   "source": [
    "\n",
    "for num in range(0, 11, 2):\n",
    "    print(num)"
   ]
  },
  {
   "cell_type": "code",
   "execution_count": null,
   "metadata": {},
   "outputs": [
    {
     "ename": "",
     "evalue": "",
     "output_type": "error",
     "traceback": [
      "\u001b[1;31mRunning cells with 'Python 3.11.2' requires the ipykernel package.\n",
      "\u001b[1;31mRun the following command to install 'ipykernel' into the Python environment. \n",
      "\u001b[1;31mCommand: '/bin/python3 -m pip install ipykernel -U --user --force-reinstall'"
     ]
    }
   ],
   "source": [
    "#lista de numeros \n",
    "lista = [2, 4, 5, 7, 8, 19, 3, 4]\n",
    "#utilizo la funcion `enumerate` que devuelve una tupla es igual a lista pero es inmutable﴿\n",
    "#tupla de 2 elementos de una lista ﴾posición, contenido﴿\n",
    "for i,m in enumerate(lista):\n",
    "    if m == 9:\n",
    "        break\n",
    "    else: \n",
    "## Usamos 'for'  conjuntamente con    'else'\n",
    "    #ponenmos negativa la posicion \n",
    "        i = -1\n",
    "        print('No se encontró el número 9')\n",
    "if i >=0:\n",
    "    print(i)"
   ]
  },
  {
   "cell_type": "code",
   "execution_count": null,
   "metadata": {},
   "outputs": [
    {
     "ename": "",
     "evalue": "",
     "output_type": "error",
     "traceback": [
      "\u001b[1;31mRunning cells with 'Python 3.11.2' requires the ipykernel package.\n",
      "\u001b[1;31mRun the following command to install 'ipykernel' into the Python environment. \n",
      "\u001b[1;31mCommand: '/bin/python3 -m pip install ipykernel -U --user --force-reinstall'"
     ]
    }
   ],
   "source": [
    "#Lista de Libros de Mario Vargas Llosa\n",
    "obras_mvll=[\"La ciudad y los perros\",\"La casa verde\",\"Pantaleón y las visitadoras\"]\n",
    "#Lista Orden de los libros\n",
    "orden=[\"primer\",\"segundo\",\"tercer\"]\n",
    "#Utlizamos `enumerate`\n",
    "for i, libro in enumerate(obras_mvll):\n",
    "    print(\"\\nEl \" + orden[i] +\" libro de Mario Vargas Llosa es: \" + libro)"
   ]
  },
  {
   "cell_type": "code",
   "execution_count": null,
   "metadata": {},
   "outputs": [
    {
     "ename": "",
     "evalue": "",
     "output_type": "error",
     "traceback": [
      "\u001b[1;31mRunning cells with 'Python 3.11.2' requires the ipykernel package.\n",
      "\u001b[1;31mRun the following command to install 'ipykernel' into the Python environment. \n",
      "\u001b[1;31mCommand: '/bin/python3 -m pip install ipykernel -U --user --force-reinstall'"
     ]
    }
   ],
   "source": [
    "for f in [\"Joel\", \"Nati\", \"Jehu\", \"Angeles\", \"Maryori\", \"Lucila\", \"Mirella\", \"Cesar\"]:\n",
    "    invitation = \"Hola \" + f + \".  ¡Por favor, ven a mi fiesta el sábado!\"\n",
    "    print(invitation)"
   ]
  },
  {
   "cell_type": "code",
   "execution_count": null,
   "metadata": {},
   "outputs": [
    {
     "ename": "",
     "evalue": "",
     "output_type": "error",
     "traceback": [
      "\u001b[1;31mRunning cells with 'Python 3.11.2' requires the ipykernel package.\n",
      "\u001b[1;31mRun the following command to install 'ipykernel' into the Python environment. \n",
      "\u001b[1;31mCommand: '/bin/python3 -m pip install ipykernel -U --user --force-reinstall'"
     ]
    }
   ],
   "source": [
    "def mysum(xs):\n",
    "    \"\"\" Suma todos los números de la lista xs, y devuelve el total. \"\"\"\n",
    "    running_total = 0\n",
    "    for x in xs:\n",
    "        running_total = running_total + x\n",
    "    return running_total\n",
    "\n",
    "print(mysum([1, 2, 3, 4]))                   # ==>> 10\n",
    "print(mysum([1.25, 2.5, 1.75]))              # ==>> 5.5\n",
    "print(mysum([1, -2, 3]))                   # ==>> 2\n",
    "print(mysum([1, 2, 3, 4]))                   # ==>> 10\n",
    "print(mysum(range(11)))                     # ==>> 55\n",
    "print(mysum([]))                            # ==>> 0"
   ]
  },
  {
   "cell_type": "code",
   "execution_count": null,
   "metadata": {},
   "outputs": [],
   "source": [
    "# Programa que suma los elementos de una lista usando la función sum\n",
    "m = [1, 2, 3, 4]\n",
    "resultado = sum(m)\n",
    "print(resultado)  # Salida: 10\n"
   ]
  },
  {
   "cell_type": "code",
   "execution_count": null,
   "metadata": {},
   "outputs": [
    {
     "ename": "",
     "evalue": "",
     "output_type": "error",
     "traceback": [
      "\u001b[1;31mRunning cells with 'Python 3.11.2' requires the ipykernel package.\n",
      "\u001b[1;31mRun the following command to install 'ipykernel' into the Python environment. \n",
      "\u001b[1;31mCommand: '/bin/python3 -m pip install ipykernel -U --user --force-reinstall'"
     ]
    }
   ],
   "source": [
    "# Programa que imprime los múltiplos de un número hasta 10\n",
    "def multiplos(n):\n",
    "    for i in range(1, 11):\n",
    "        print(n * i, end=\"  \")\n",
    "    print()\n",
    "\n",
    "# Entrada del usuario\n",
    "numero = int(input(\"Ingrese un número: \"))\n",
    "print(f\"Los múltiplos de {numero} son: \")\n",
    "multiplos(numero)\n"
   ]
  },
  {
   "cell_type": "code",
   "execution_count": null,
   "metadata": {},
   "outputs": [],
   "source": [
    "# Ejemplo de uso de for anidado: creación de tablas\n",
    "for i in range(4):\n",
    "    for j in range(4):\n",
    "        for k in range(2):\n",
    "            print(i, j, k)\n"
   ]
  },
  {
   "cell_type": "code",
   "execution_count": null,
   "metadata": {},
   "outputs": [
    {
     "ename": "",
     "evalue": "",
     "output_type": "error",
     "traceback": [
      "\u001b[1;31mRunning cells with 'Python 3.11.2' requires the ipykernel package.\n",
      "\u001b[1;31mRun the following command to install 'ipykernel' into the Python environment. \n",
      "\u001b[1;31mCommand: '/bin/python3 -m pip install ipykernel -U --user --force-reinstall'"
     ]
    }
   ],
   "source": [
    "# Programa que calcula la raíz n-ésima de un número\n",
    "numero = float(input(\"Ingrese un número: \"))\n",
    "for n in range(2, 101):\n",
    "    raiz = numero ** (1 / n)\n",
    "    print(f\"La raíz {n}-ésima de {numero} es {raiz}\")\n"
   ]
  },
  {
   "cell_type": "code",
   "execution_count": null,
   "metadata": {},
   "outputs": [],
   "source": [
    "# Programa que verifica nombres y apellidos\n",
    "numeros = ['1', '2', '3', '4', '5', '6', '7', '8', '9', '0']\n",
    "simbolos = ['?', '!', '$', '%', '&', '/', 'ª', 'º']\n",
    "\n",
    "def validar(cadena):\n",
    "    for char in cadena:\n",
    "        if char in numeros or char in simbolos:\n",
    "            print(\"Nombre no válido!!!\")\n",
    "            return\n",
    "    print(\"Nombre Correcto\")\n",
    "\n",
    "# Entrada de nombre y apellido\n",
    "nombre = input(\"Ingrese su nombre: \")\n",
    "validar(nombre)\n",
    "\n",
    "apellido = input(\"Ingrese su apellido: \")\n",
    "validar(apellido)\n"
   ]
  }
 ],
 "metadata": {
  "kernelspec": {
   "display_name": "Python 3",
   "language": "python",
   "name": "python3"
  },
  "language_info": {
   "name": "python",
   "version": "3.11.2"
  }
 },
 "nbformat": 4,
 "nbformat_minor": 2
}
